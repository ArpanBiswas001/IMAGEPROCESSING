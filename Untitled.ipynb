{
 "cells": [
  {
   "cell_type": "code",
   "execution_count": null,
   "id": "1dc9fc9b-9285-4bac-b73a-84f334f6be75",
   "metadata": {},
   "outputs": [],
   "source": [
    "import cv2\n",
    "\n",
    "# Load the image\n",
    "image = cv2.imread('C:\\\\Users\\\\arpan\\\\Downloads\\\\image.jpg')\n",
    "\n",
    "# Display the image\n",
    "cv2.imshow('Loaded Image', image)\n",
    "cv2.waitKey(0)\n",
    "cv2.destroyAllWindows()"
   ]
  },
  {
   "cell_type": "code",
   "execution_count": null,
   "id": "f8d258ff-a2ab-45de-a9c1-b2d0f1fbe69d",
   "metadata": {},
   "outputs": [],
   "source": [
    "import cv2\n",
    "\n",
    "# Load the image\n",
    "image = cv2.imread('C:\\\\Users\\\\arpan\\\\Downloads\\\\image.jpg')\n",
    "gray_image = cv2.cvtColor(image, cv2.COLOR_BGR2GRAY)\n",
    "\n",
    "# Save and display the grayscale image\n",
    "cv2.imshow('Grayscale Image', gray_image)\n",
    "cv2.imwrite('gray_image.jpg', gray_image)\n",
    "cv2.waitKey(0)\n",
    "cv2.destroyAllWindows()"
   ]
  },
  {
   "cell_type": "code",
   "execution_count": null,
   "id": "8e3d66d5-7e9c-46a7-965a-37818a4a0770",
   "metadata": {},
   "outputs": [],
   "source": [
    "import cv2\n",
    "# Load the image\n",
    "image = cv2.imread('C:\\\\Users\\\\arpan\\\\Downloads\\\\image.jpg')\n",
    "# Resize the image\n",
    "resized_image = cv2.resize(image, (0, 0), fx=0.5, fy=0.5)\n",
    "# Display the resized image\n",
    "cv2.imshow('Resized Image', resized_image)\n",
    "cv2.waitKey(0)\n",
    "cv2.destroyAllWindows()\n"
   ]
  },
  {
   "cell_type": "code",
   "execution_count": null,
   "id": "33d51030-8717-418a-a4f7-3698e04c2157",
   "metadata": {},
   "outputs": [],
   "source": [
    "import cv2\n",
    "\n",
    "# Load the image\n",
    "image = cv2.imread('C:\\\\Users\\\\arpan\\\\Downloads\\\\image.jpg')\n",
    "\n",
    "# Resize the image\n",
    "rotated_image = cv2.rotate(image, cv2.ROTATE_90_CLOCKWISE)\n",
    "\n",
    "# Display the rotated image\n",
    "cv2.imshow('Rotated Image', rotated_image)\n",
    "cv2.waitKey(0)\n",
    "cv2.destroyAllWindows()"
   ]
  },
  {
   "cell_type": "code",
   "execution_count": null,
   "id": "6b9af9dc-0033-4854-954a-368d99d68043",
   "metadata": {},
   "outputs": [
    {
     "data": {
      "image/png": "[encoded data removed]",
      "text/plain": [
       "<Figure size 640x480 with 1 Axes>"
      ]
     },
     "metadata": {},
     "output_type": "display_data"
    }
   ],
   "source": [
    "import cv2\n",
    "import matplotlib.pyplot as plt\n",
    "\n",
    "# Load an image\n",
    "image = cv2.imread('C:\\\\Users\\\\arpan\\\\Downloads\\\\image.jpg', cv2.IMREAD_GRAYSCALE)\n",
    "\n",
    "# Plot histogram\n",
    "plt.hist(image.ravel(), 256, [0, 256])\n",
    "plt.title('Image Histogram')\n",
    "plt.xlabel('Pixel Intensity')\n",
    "plt.ylabel('Frequency')\n",
    "plt.show()\n",
    "\n",
    "# Global Thresholding\n",
    "_, global_thresh = cv2.threshold(image, 127, 255, cv2.THRESH_BINARY)\n",
    "cv2.imshow('Global Thresholding', global_thresh)\n",
    "\n",
    "# Adaptive Thresholding\n",
    "adaptive_thresh = cv2.adaptiveThreshold(image, 255, cv2.ADAPTIVE_THRESH_GAUSSIAN_C,\n",
    "                                        cv2.THRESH_BINARY, 11, 2)\n",
    "cv2.imshow('Adaptive Thresholding', adaptive_thresh)\n",
    "\n",
    "cv2.waitKey(0)\n",
    "cv2.destroyAllWindows()"
   ]
  },
  {
   "cell_type": "code",
   "execution_count": null,
   "id": "8125d846-68b1-4063-8d0e-2f6d2596c2e3",
   "metadata": {},
   "outputs": [],
   "source": [
    "import cv2\n",
    "import numpy as np\n",
    "\n",
    "# Load an image\n",
    "image = cv2.imread('C:\\\\Users\\\\arpan\\\\Downloads\\\\image.jpg')\n",
    "\n",
    "# Gaussian Blur\n",
    "gaussian_blur = cv2.GaussianBlur(image, (5, 5), 0)\n",
    "cv2.imshow('Gaussian Blur', gaussian_blur)\n",
    "\n",
    "# Sharpening\n",
    "kernel = np.array([[0, -1, 0], \n",
    "                   [-1, 5, -1], \n",
    "                   [0, -1, 0]])\n",
    "sharpened = cv2.filter2D(image, -1, kernel)\n",
    "cv2.imshow('Sharpened Image', sharpened)\n",
    "\n",
    "# Median Filtering\n",
    "median_filtered = cv2.medianBlur(image, 5)\n",
    "cv2.imshow('Median Filtered', median_filtered)\n",
    "\n",
    "cv2.waitKey(0)\n",
    "cv2.destroyAllWindows()"
   ]
  },
  {
   "cell_type": "code",
   "execution_count": null,
   "id": "debca322-8dcc-411c-886c-3e2d7ef7be62",
   "metadata": {},
   "outputs": [],
   "source": []
  }
 ],
 "metadata": {
  "kernelspec": {
   "display_name": "Python 3 (ipykernel)",
   "language": "python",
   "name": "python3"
  },
  "language_info": {
   "codemirror_mode": {
    "name": "ipython",
    "version": 3
   },
   "file_extension": ".py",
   "mimetype": "text/x-python",
   "name": "python",
   "nbconvert_exporter": "python",
   "pygments_lexer": "ipython3",
   "version": "3.12.7"
  }
 },
 "nbformat": 4,
 "nbformat_minor": 5
}
